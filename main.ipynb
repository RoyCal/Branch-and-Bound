{
 "cells": [
  {
   "cell_type": "markdown",
   "metadata": {},
   "source": [
    "# Nota 3: Branch and Bound"
   ]
  },
  {
   "cell_type": "markdown",
   "metadata": {},
   "source": [
    "## Importando o MIP e a classe Branch and Bound"
   ]
  },
  {
   "cell_type": "code",
   "execution_count": 1,
   "metadata": {},
   "outputs": [],
   "source": [
    "from mip import *\n",
    "from BranchAndBoundBinary import *"
   ]
  },
  {
   "cell_type": "markdown",
   "metadata": {},
   "source": [
    "## Funções auxiliares"
   ]
  },
  {
   "cell_type": "code",
   "execution_count": 2,
   "metadata": {},
   "outputs": [],
   "source": [
    "# lê arquivo de entrada\n",
    "def readInput(file):\n",
    "    lines = []\n",
    "    with open(file, 'r') as file:\n",
    "        for line in file:\n",
    "            lines.append(line.strip().split())\n",
    "\n",
    "    return lines\n",
    "\n",
    "# salva modelo em arquivo lp, e mostra o conteúdo\n",
    "def save(model, filename):\n",
    "    model.write(filename)\n",
    "    with open(filename, \"r\") as f:\n",
    "        print(f.read())"
   ]
  },
  {
   "cell_type": "markdown",
   "metadata": {},
   "source": [
    "## Leitura do arquivo e definição das variáveis"
   ]
  },
  {
   "cell_type": "code",
   "execution_count": 3,
   "metadata": {},
   "outputs": [],
   "source": [
    "# Leitura do arquivo de entrada\n",
    "input = readInput(\"inputs/teste1.txt\")\n",
    "\n",
    "# Definição das variáveis\n",
    "nVariaveis = int(input[0][0])\n",
    "nRestricoes = int(input[0][1])\n",
    "\n",
    "objFunc = input[1]\n",
    "\n",
    "restricoes = input[2:]"
   ]
  },
  {
   "cell_type": "markdown",
   "metadata": {},
   "source": [
    "## Criação do modelo: variáveis, função objetivo e restrições"
   ]
  },
  {
   "cell_type": "code",
   "execution_count": 16,
   "metadata": {},
   "outputs": [
    {
     "name": "stdout",
     "output_type": "stream",
     "text": [
      "\\Problem name: Problema de otimizacao\n",
      "\n",
      "Minimize\n",
      "OBJROW: -2 x_0 -10 x_1 -8 x_2 -7 x_3 -10 x_4 -10 x_5 -6 x_6\n",
      "Subject To\n",
      "constr(0):  5 x_0 + 7 x_1 + 8 x_2 + x_3 + 7 x_4 + 5 x_5 + 6 x_6 <= 20\n",
      "constr(1):  x_0 + 6 x_1 + 4 x_2 + 9 x_3 + 10 x_4 + 6 x_5 + 10 x_6 <= 30\n",
      "constr(2):  4 x_0 + 4 x_1 + 4 x_2 + x_3 + 5 x_4 + 5 x_5 + 10 x_6 <= 40\n",
      "constr(3):  3 x_0 + 10 x_1 + 8 x_2 + x_3 + 3 x_4 + 3 x_5 + 8 x_6 <= 30\n",
      "constr(4):  10 x_0 + 8 x_1 + 9 x_2 + 9 x_3 + 7 x_4 + 6 x_5 + 10 x_6 <= 20\n",
      "constr(5):  6 x_0 + 6 x_1 + 3 x_2 + 6 x_3 + 3 x_4 + 7 x_5 + 2 x_6 <= 80\n",
      "constr(6):  7 x_0 + 10 x_1 + 7 x_2 + 8 x_3 + 7 x_4 + 8 x_5 + 7 x_6 <= 100\n",
      "constr(7):  9 x_0 + 8 x_1 + x_2 + x_3 + 8 x_4 + 10 x_5 + 2 x_6 <= 90\n",
      "constr(8):  x_0 + 5 x_1 + 3 x_2 + 10 x_3 + 2 x_4 + 4 x_5 + 9 x_6 <= 70\n",
      "constr(9):  9 x_0 + 6 x_1 + x_2 + 4 x_3 + 7 x_4 + 5 x_5 + 10 x_6 <= 60\n",
      "constr(10):  5 x_0 + 7 x_1 + 4 x_2 + 4 x_3 + 3 x_4 + 4 x_5 + 10 x_6 <= 40\n",
      "Bounds\n",
      " 0 <= x_0 <= 1\n",
      " 0 <= x_1 <= 1\n",
      " 0 <= x_2 <= 1\n",
      " 0 <= x_3 <= 1\n",
      " 0 <= x_4 <= 1\n",
      " 0 <= x_5 <= 1\n",
      " 0 <= x_6 <= 1\n",
      "Integers\n",
      "x_0 x_1 x_2 x_3 x_4 x_5 x_6 \n",
      "End\n",
      "\n"
     ]
    }
   ],
   "source": [
    "# Criação do modelo\n",
    "model = Model(sense=MAXIMIZE, solver_name=CBC)\n",
    "model.name = \"Problema de otimizacao\"\n",
    "\n",
    "# Criação das variáveis\n",
    "x = [model.add_var(name=f\"x_{i}\", var_type=BINARY) for i in range(nVariaveis)]\n",
    "\n",
    "# Criação da função objetivo\n",
    "model.objective = xsum(int(objFunc[i]) * x[i] for i in range(nVariaveis))\n",
    "\n",
    "# Criação das restrições\n",
    "for i in range(nRestricoes):\n",
    "    model += xsum(int(restricoes[i][j]) * x[j] for j in range(nVariaveis)) <= int(restricoes[i][-1])\n",
    "\n",
    "# Salva e mostra o modelo\n",
    "save(model, \"model.lp\")\n",
    "\n"
   ]
  },
  {
   "cell_type": "markdown",
   "metadata": {},
   "source": [
    "## Otimização"
   ]
  },
  {
   "cell_type": "code",
   "execution_count": 18,
   "metadata": {},
   "outputs": [
    {
     "name": "stdout",
     "output_type": "stream",
     "text": [
      "OptimizationStatus.OPTIMAL\n",
      "Valor da solução ótima:  20.0\n",
      "\n",
      "Valores das variáveis: \n",
      "x_0 = 0.0\n",
      "x_1 = 0.0\n",
      "x_2 = 0.0\n",
      "x_3 = 0.0\n",
      "x_4 = 1.0\n",
      "x_5 = 1.0\n",
      "x_6 = 0.0\n"
     ]
    }
   ],
   "source": [
    "# Otimização\n",
    "solution = model.optimize()\n",
    "\n",
    "# Impressão da solução\n",
    "print(solution)\n",
    "print(\"Valor da solução ótima: \", model.objective_value)\n",
    "\n",
    "# Impressão dos valores das variáveis\n",
    "print(\"\\nValores das variáveis: \")\n",
    "for i in range(nVariaveis):\n",
    "    print(f\"{x[i].name} = {x[i].x}\")"
   ]
  },
  {
   "cell_type": "markdown",
   "metadata": {},
   "source": [
    "# Fazendo a relaxação do modelo"
   ]
  },
  {
   "cell_type": "code",
   "execution_count": 24,
   "metadata": {},
   "outputs": [
    {
     "name": "stdout",
     "output_type": "stream",
     "text": [
      "\\Problem name: Problema de otimizacao\n",
      "\n",
      "Minimize\n",
      "OBJROW: -2 x_0 -10 x_1 -8 x_2 -7 x_3 -10 x_4 -10 x_5 -6 x_6\n",
      "Subject To\n",
      "constr(0):  5 x_0 + 7 x_1 + 8 x_2 + x_3 + 7 x_4 + 5 x_5 + 6 x_6 <= 20\n",
      "constr(1):  x_0 + 6 x_1 + 4 x_2 + 9 x_3 + 10 x_4 + 6 x_5 + 10 x_6 <= 30\n",
      "constr(2):  4 x_0 + 4 x_1 + 4 x_2 + x_3 + 5 x_4 + 5 x_5 + 10 x_6 <= 40\n",
      "constr(3):  3 x_0 + 10 x_1 + 8 x_2 + x_3 + 3 x_4 + 3 x_5 + 8 x_6 <= 30\n",
      "constr(4):  10 x_0 + 8 x_1 + 9 x_2 + 9 x_3 + 7 x_4 + 6 x_5 + 10 x_6 <= 20\n",
      "constr(5):  6 x_0 + 6 x_1 + 3 x_2 + 6 x_3 + 3 x_4 + 7 x_5 + 2 x_6 <= 80\n",
      "constr(6):  7 x_0 + 10 x_1 + 7 x_2 + 8 x_3 + 7 x_4 + 8 x_5 + 7 x_6 <= 100\n",
      "constr(7):  9 x_0 + 8 x_1 + x_2 + x_3 + 8 x_4 + 10 x_5 + 2 x_6 <= 90\n",
      "constr(8):  x_0 + 5 x_1 + 3 x_2 + 10 x_3 + 2 x_4 + 4 x_5 + 9 x_6 <= 70\n",
      "constr(9):  9 x_0 + 6 x_1 + x_2 + 4 x_3 + 7 x_4 + 5 x_5 + 10 x_6 <= 60\n",
      "constr(10):  5 x_0 + 7 x_1 + 4 x_2 + 4 x_3 + 3 x_4 + 4 x_5 + 10 x_6 <= 40\n",
      "Bounds\n",
      " 0 <= x_0 <= 1\n",
      " 0 <= x_1 <= 1\n",
      " 0 <= x_2 <= 1\n",
      " 0 <= x_3 <= 1\n",
      " 0 <= x_4 <= 1\n",
      " 0 <= x_5 <= 1\n",
      " 0 <= x_6 <= 1\n",
      "End\n",
      "\n"
     ]
    }
   ],
   "source": [
    "# Cria uma cópia do modelo original e faz a relaxação\n",
    "relaxed_model = model.copy()\n",
    "relaxed_model.relax()\n",
    "\n",
    "# Salva e mostra o modelo\n",
    "save(relaxed_model, \"model_relaxed.lp\")"
   ]
  },
  {
   "cell_type": "markdown",
   "metadata": {},
   "source": [
    "# Otimização do modelo relaxado"
   ]
  },
  {
   "cell_type": "code",
   "execution_count": 25,
   "metadata": {},
   "outputs": [
    {
     "name": "stdout",
     "output_type": "stream",
     "text": [
      "OptimizationStatus.OPTIMAL\n",
      "Valor da solução ótima:  28.749999999999996\n",
      "\n",
      "Valores das variáveis: \n",
      "x_0 = 0.0\n",
      "x_1 = 0.8749999999999997\n",
      "x_2 = 0.0\n",
      "x_3 = 0.0\n",
      "x_4 = 1.0\n",
      "x_5 = 1.0\n",
      "x_6 = 0.0\n"
     ]
    }
   ],
   "source": [
    "# Otimização\n",
    "solution = relaxed_model.optimize()\n",
    "\n",
    "# Impressão da solução\n",
    "print(solution)\n",
    "print(\"Valor da solução ótima: \", relaxed_model.objective_value)\n",
    "\n",
    "# Impressão dos valores das variáveis\n",
    "print(\"\\nValores das variáveis: \")\n",
    "for i in range(nVariaveis):\n",
    "    print(f\"{x[i].name} = {x[i].x}\")"
   ]
  },
  {
   "cell_type": "markdown",
   "metadata": {},
   "source": [
    "# Realizando o método branch and bound para solução binária"
   ]
  },
  {
   "cell_type": "code",
   "execution_count": 26,
   "metadata": {},
   "outputs": [
    {
     "name": "stdout",
     "output_type": "stream",
     "text": [
      "Valor da solução ótima:  20.0\n",
      "\n",
      "Valores das variáveis: \n",
      "x_0 :  0.0\n",
      "x_1 :  1.0\n",
      "x_2 :  0.0\n",
      "x_3 :  0.0\n",
      "x_4 :  1.0\n",
      "x_5 :  0.0\n",
      "x_6 :  0.0\n"
     ]
    }
   ],
   "source": [
    "# Branch and Bound\n",
    "BAB = BranchAndBoundBinary(relaxed_model)\n",
    "\n",
    "# Resolve e printa a solução do modelo relaxado com Branch and Bound\n",
    "BAB.solveAndPrint()"
   ]
  }
 ],
 "metadata": {
  "kernelspec": {
   "display_name": "Python 3",
   "language": "python",
   "name": "python3"
  },
  "language_info": {
   "codemirror_mode": {
    "name": "ipython",
    "version": 3
   },
   "file_extension": ".py",
   "mimetype": "text/x-python",
   "name": "python",
   "nbconvert_exporter": "python",
   "pygments_lexer": "ipython3",
   "version": "3.11.9"
  }
 },
 "nbformat": 4,
 "nbformat_minor": 2
}
