{
 "cells": [
  {
   "cell_type": "markdown",
   "metadata": {},
   "source": [
    "# Nota 3: Branch and Bound"
   ]
  },
  {
   "cell_type": "markdown",
   "metadata": {},
   "source": [
    "## Importando o MIP"
   ]
  },
  {
   "cell_type": "code",
   "execution_count": 1,
   "metadata": {},
   "outputs": [],
   "source": [
    "from mip import *"
   ]
  },
  {
   "cell_type": "markdown",
   "metadata": {},
   "source": [
    "## Funções auxiliares"
   ]
  },
  {
   "cell_type": "code",
   "execution_count": 2,
   "metadata": {},
   "outputs": [],
   "source": [
    "# lê arquivo de entrada\n",
    "def readInput(file):\n",
    "    lines = []\n",
    "    with open(file, 'r') as file:\n",
    "        for line in file:\n",
    "            lines.append(line.strip().split())\n",
    "\n",
    "    return lines\n",
    "\n",
    "# salva modelo em arquivo lp, e mostra o conteúdo\n",
    "def save(model, filename):\n",
    "    model.write(filename)\n",
    "    with open(filename, \"r\") as f:\n",
    "        print(f.read())"
   ]
  },
  {
   "cell_type": "markdown",
   "metadata": {},
   "source": [
    "## Leitura do arquivo e definição das variáveis"
   ]
  },
  {
   "cell_type": "code",
   "execution_count": 3,
   "metadata": {},
   "outputs": [],
   "source": [
    "# Leitura do arquivo de entrada\n",
    "input = readInput(\"inputs/inputFile.txt\")\n",
    "\n",
    "# Definição das variáveis\n",
    "nVariaveis = int(input[0][0])\n",
    "nRestricoes = int(input[0][1])\n",
    "\n",
    "objFunc = input[1]\n",
    "\n",
    "restricoes = input[2:]"
   ]
  },
  {
   "cell_type": "markdown",
   "metadata": {},
   "source": [
    "## Criação do modelo: variáveis, função objetivo e restrições"
   ]
  },
  {
   "cell_type": "code",
   "execution_count": 4,
   "metadata": {},
   "outputs": [
    {
     "name": "stdout",
     "output_type": "stream",
     "text": [
      "\\Problem name: Problema de otimizaÃ§Ã£o\n",
      "\n",
      "Minimize\n",
      "OBJROW: -5 x_0 -10 x_1 -8 x_2\n",
      "Subject To\n",
      "constr(0):  3 x_0 + 5 x_1 + 2 x_2 <= 6\n",
      "constr(1):  4 x_0 + 4 x_1 + 4 x_2 <= 7\n",
      "Bounds\n",
      "End\n",
      "\n"
     ]
    }
   ],
   "source": [
    "# Criação do modelo\n",
    "model = Model(sense=MAXIMIZE, solver_name=CBC)\n",
    "model.name = \"Problema de otimização\"\n",
    "\n",
    "# Criação das variáveis\n",
    "x = [model.add_var(name=f\"x_{i}\", var_type=CONTINUOUS) for i in range(nVariaveis)]\n",
    "\n",
    "# Criação da função objetivo\n",
    "model.objective = xsum(int(objFunc[i]) * x[i] for i in range(nVariaveis))\n",
    "\n",
    "# Criação das restrições\n",
    "for i in range(nRestricoes):\n",
    "    model += xsum(int(restricoes[i][j]) * x[j] for j in range(nVariaveis)) <= int(restricoes[i][-1])\n",
    "\n",
    "save(model, \"model.lp\")\n",
    "\n"
   ]
  },
  {
   "cell_type": "markdown",
   "metadata": {},
   "source": [
    "## Otimização"
   ]
  },
  {
   "cell_type": "code",
   "execution_count": 5,
   "metadata": {},
   "outputs": [
    {
     "name": "stdout",
     "output_type": "stream",
     "text": [
      "OptimizationStatus.OPTIMAL\n",
      "Solução ótima:  15.666666666666668\n",
      "\n",
      "Variáveis: \n",
      "x_0 = 0.0\n",
      "x_1 = 0.8333333333333336\n",
      "x_2 = 0.9166666666666664\n"
     ]
    }
   ],
   "source": [
    "# Otimização\n",
    "solution = model.optimize()\n",
    "\n",
    "# Impressão da solução\n",
    "print(solution)\n",
    "print(\"Solução ótima: \", model.objective_value)\n",
    "\n",
    "# Impressão das variáveis\n",
    "print(\"\\nVariáveis: \")\n",
    "for i in range(nVariaveis):\n",
    "    print(f\"{x[i].name} = {x[i].x}\")"
   ]
  },
  {
   "cell_type": "code",
   "execution_count": 6,
   "metadata": {},
   "outputs": [
    {
     "name": "stdout",
     "output_type": "stream",
     "text": [
      "[0.0, 0.8333333333333336, 0.9166666666666664]\n",
      "SolutionType.NOT_BINARY\n"
     ]
    }
   ],
   "source": [
    "from Solution import *\n",
    "\n",
    "solution = Solution(model, x)\n",
    "print(solution.variablesValues)\n",
    "print(solution.solutionType)"
   ]
  },
  {
   "cell_type": "code",
   "execution_count": 7,
   "metadata": {},
   "outputs": [
    {
     "name": "stdout",
     "output_type": "stream",
     "text": [
      "10.0\n"
     ]
    }
   ],
   "source": [
    "from BABTree import *\n",
    "\n",
    "BAB = BABTree(model, x)\n",
    "\n",
    "BAB.solve()"
   ]
  }
 ],
 "metadata": {
  "kernelspec": {
   "display_name": "Python 3",
   "language": "python",
   "name": "python3"
  },
  "language_info": {
   "codemirror_mode": {
    "name": "ipython",
    "version": 3
   },
   "file_extension": ".py",
   "mimetype": "text/x-python",
   "name": "python",
   "nbconvert_exporter": "python",
   "pygments_lexer": "ipython3",
   "version": "3.11.9"
  }
 },
 "nbformat": 4,
 "nbformat_minor": 2
}
